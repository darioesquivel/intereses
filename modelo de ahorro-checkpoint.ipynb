{
 "cells": [
  {
   "cell_type": "code",
   "execution_count": 37,
   "metadata": {},
   "outputs": [],
   "source": [
    "import numpy as np\n",
    "import matplotlib.pyplot as plt\n",
    "import numpy as np\n",
    "\n",
    "%matplotlib inline"
   ]
  },
  {
   "cell_type": "code",
   "execution_count": null,
   "metadata": {},
   "outputs": [],
   "source": []
  },
  {
   "cell_type": "code",
   "execution_count": 38,
   "metadata": {},
   "outputs": [],
   "source": [
    "#interes, i, c0, capital inicial, k, peridos\n",
    "def intSimple(capital, periodos, interes):\n",
    "    return capital*(1+periodos * interes)"
   ]
  },
  {
   "cell_type": "code",
   "execution_count": 39,
   "metadata": {},
   "outputs": [],
   "source": [
    "listaDeInteres = [.05, .1, .15,  .2, .5]"
   ]
  },
  {
   "cell_type": "code",
   "execution_count": 40,
   "metadata": {},
   "outputs": [
    {
     "name": "stdout",
     "output_type": "stream",
     "text": [
      "16000.0 22000.0 28000.0 34000.0 70000.0 "
     ]
    }
   ],
   "source": [
    "# capital = 1000\n",
    "periodos = 12\n",
    "for interes in listaDeInteres:\n",
    "    print(intSimple(10000, periodos, interes), end = \" \")"
   ]
  },
  {
   "cell_type": "code",
   "execution_count": 42,
   "metadata": {},
   "outputs": [
    {
     "data": {
      "image/png": "[encoded data removed]",
      "text/plain": [
       "<Figure size 288x144 with 1 Axes>"
      ]
     },
     "metadata": {},
     "output_type": "display_data"
    }
   ],
   "source": [
    "periodos= [3, 6, 12, 18]\n",
    "colores = [\"black\", \"red\", \"blue\", \"orange\"]\n",
    "plt.figure(figsize = (4,2))\n",
    "for indx, periodo in enumerate(periodos):\n",
    "    for interes in listaDeInteres:\n",
    "        capitalx = intSimple(10000,periodo,interes)\n",
    "        plt.scatter([periodo], [capitalx], color = colores[indx], s=5)\n",
    "        \n",
    "        "
   ]
  },
  {
   "cell_type": "code",
   "execution_count": 45,
   "metadata": {},
   "outputs": [],
   "source": [
    "def intCompuesto(capital, periodos,interes):\n",
    "    return capital*(1 + capital * interes)**periodos"
   ]
  },
  {
   "cell_type": "code",
   "execution_count": 46,
   "metadata": {},
   "outputs": [
    {
     "name": "stdout",
     "output_type": "stream",
     "text": [
      "2.500648847522957e+36 1.012066220495793e+40 1.3078812295656705e+42 4.1206436967668215e+43 2.4472720746113094e+48 "
     ]
    }
   ],
   "source": [
    "periodos = 12\n",
    "for interes in listaDeInteres:\n",
    "    print(intCompuesto(10000, periodos, interes), end = \" \")"
   ]
  },
  {
   "cell_type": "code",
   "execution_count": 47,
   "metadata": {},
   "outputs": [
    {
     "data": {
      "image/png": "[encoded data removed]",
      "text/plain": [
       "<Figure size 288x144 with 1 Axes>"
      ]
     },
     "metadata": {},
     "output_type": "display_data"
    }
   ],
   "source": [
    "periodos= [3, 6, 12, 18]\n",
    "colores = [\"black\", \"red\", \"blue\", \"orange\"]\n",
    "plt.figure(figsize = (4,2))\n",
    "for indx, periodo in enumerate(periodos):\n",
    "    for interes in listaDeInteres:\n",
    "        capitalx = intCompuesto(10000,periodo,interes)\n",
    "        plt.scatter([periodo], [capitalx], color = colores[indx], s=5)\n",
    "        "
   ]
  },
  {
   "cell_type": "markdown",
   "metadata": {},
   "source": [
    "## Actividad int simple"
   ]
  },
  {
   "cell_type": "markdown",
   "metadata": {},
   "source": [
    "Actividad.\n",
    "¿Qué pasa si el interés no es del 0.8% mensual sino del 1% mensual?\n",
    "¿Qué pasa si la meta no son $11000 MXN si no $12000 MXN?"
   ]
  },
  {
   "cell_type": "code",
   "execution_count": 54,
   "metadata": {},
   "outputs": [],
   "source": [
    "def Nper(c0, ck, interes):\n",
    "    nper = (ck/c0 - 1 )/interes\n",
    "    if (nper - int(nper)) == 0:\n",
    "        return nper\n",
    "    else:\n",
    "        return int(nper) + 1"
   ]
  },
  {
   "cell_type": "code",
   "execution_count": 56,
   "metadata": {},
   "outputs": [
    {
     "data": {
      "text/plain": [
       "11"
      ]
     },
     "execution_count": 56,
     "metadata": {},
     "output_type": "execute_result"
    }
   ],
   "source": [
    "Nper(10000, 11000, .01 )"
   ]
  },
  {
   "cell_type": "code",
   "execution_count": 58,
   "metadata": {},
   "outputs": [
    {
     "data": {
      "text/plain": [
       "25"
      ]
     },
     "execution_count": 58,
     "metadata": {},
     "output_type": "execute_result"
    }
   ],
   "source": [
    "Nper(10000, 12000, .008 )"
   ]
  },
  {
   "cell_type": "markdown",
   "metadata": {},
   "source": [
    "## Actividad int compuesto"
   ]
  },
  {
   "cell_type": "code",
   "execution_count": 81,
   "metadata": {},
   "outputs": [],
   "source": [
    "def periodosC(capital, meta, interes):\n",
    "    return np.log(meta/capital)/np.log(1+ interes)"
   ]
  },
  {
   "cell_type": "code",
   "execution_count": 82,
   "metadata": {},
   "outputs": [
    {
     "data": {
      "text/plain": [
       "81.29558565292038"
      ]
     },
     "execution_count": 82,
     "metadata": {},
     "output_type": "execute_result"
    }
   ],
   "source": [
    "periodosC(1000,1500,.005)"
   ]
  },
  {
   "cell_type": "code",
   "execution_count": 83,
   "metadata": {},
   "outputs": [],
   "source": [
    "def NperComp(c0, ck, interes):\n",
    "    nper = np.log(ck/c0)/np.log(1 + interes)\n",
    "    if (nper - int(nper)) == 0:\n",
    "        return nper\n",
    "    else:\n",
    "        return int(nper) + 1"
   ]
  },
  {
   "cell_type": "code",
   "execution_count": 85,
   "metadata": {},
   "outputs": [
    {
     "data": {
      "text/plain": [
       "82"
      ]
     },
     "execution_count": 85,
     "metadata": {},
     "output_type": "execute_result"
    }
   ],
   "source": [
    "NperComp(1000,1500,.005)"
   ]
  },
  {
   "cell_type": "code",
   "execution_count": null,
   "metadata": {},
   "outputs": [],
   "source": []
  }
 ],
 "metadata": {
  "kernelspec": {
   "display_name": "Python 3",
   "language": "python",
   "name": "python3"
  },
  "language_info": {
   "codemirror_mode": {
    "name": "ipython",
    "version": 3
   },
   "file_extension": ".py",
   "mimetype": "text/x-python",
   "name": "python",
   "nbconvert_exporter": "python",
   "pygments_lexer": "ipython3",
   "version": "3.6.5"
  }
 },
 "nbformat": 4,
 "nbformat_minor": 2
}
